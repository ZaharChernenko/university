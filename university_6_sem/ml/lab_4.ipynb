{
 "cells": [
  {
   "cell_type": "code",
   "execution_count": null,
   "metadata": {
    "colab": {
     "base_uri": "https://localhost:8080/"
    },
    "executionInfo": {
     "elapsed": 2393,
     "status": "ok",
     "timestamp": 1746274540759,
     "user": {
      "displayName": "Zahar Chernenko",
      "userId": "07599448326130250265"
     },
     "user_tz": -180
    },
    "id": "KHWxlxwirokc",
    "outputId": "13b74e23-b185-4a01-c381-3bbba1f5aa57"
   },
   "outputs": [],
   "source": [
    "import json\n",
    "\n",
    "from transformers import pipeline\n",
    "\n",
    "\n",
    "def classify_emotions(comments) -> list[dict]:\n",
    "    classifier = pipeline(\n",
    "        \"text-classification\",\n",
    "        model=\"blanchefort/rubert-base-cased-sentiment\",\n",
    "        tokenizer=\"blanchefort/rubert-base-cased-sentiment\",\n",
    "        truncation=True,\n",
    "        max_length=512\n",
    "    )\n",
    "    THRESHOLD = 0.75\n",
    "    result = []\n",
    "    for comment in comments:\n",
    "        classifier_result = classifier(comment[\"comment\"])[0]\n",
    "        result.append(\n",
    "            {\n",
    "                \"login\": comment[\"login\"],\n",
    "                \"comment\": comment[\"comment\"],\n",
    "                \"emotion\": classifier_result[\"label\"] if classifier_result[\"score\"] >= THRESHOLD else \"NEUTRAL\",\n",
    "            }\n",
    "        )\n",
    "\n",
    "    return result\n",
    "\n",
    "\n",
    "with open(\"data/comments.json\") as fin:\n",
    "    users_emotions = classify_emotions(json.load(fin)[\"users\"])"
   ]
  },
  {
   "cell_type": "code",
   "execution_count": 42,
   "metadata": {
    "colab": {
     "base_uri": "https://localhost:8080/"
    },
    "executionInfo": {
     "elapsed": 7,
     "status": "ok",
     "timestamp": 1746274542080,
     "user": {
      "displayName": "Zahar Chernenko",
      "userId": "07599448326130250265"
     },
     "user_tz": -180
    },
    "id": "6nXuf4Nm_J0o",
    "outputId": "4bdc3634-1983-4022-844e-f1233170b2ce"
   },
   "outputs": [
    {
     "name": "stdout",
     "output_type": "stream",
     "text": [
      "                       login  \\\n",
      "0                 cuochiimei   \n",
      "1                  Siestaman   \n",
      "2                   mellonis   \n",
      "3                   kino_rab   \n",
      "4                  pewpewpaf   \n",
      "5               Julia_Sedova   \n",
      "6              Артмеланхолия   \n",
      "7                    user123   \n",
      "8          GoldMartin - 1988   \n",
      "9   Станислав Чигарев - 2048   \n",
      "10                  RoxannaN   \n",
      "11        MariaKoryakina2004   \n",
      "12            Viola Violkova   \n",
      "13            Малих Альберто   \n",
      "14     Данил Краморов - 3143   \n",
      "15           Ян Жижка - 5809   \n",
      "16            Maria_Tokareva   \n",
      "17                  Skwidwar   \n",
      "18                 nowifiplz   \n",
      "\n",
      "                                              comment  \n",
      "0   Существует множество списков с фильмами: фильм...  \n",
      "1   Броско, ярко, модно Всё, что нужно знать о Суб...  \n",
      "2   Всё испорчено. Интересная идея в Субстанции: м...  \n",
      "3   Как «Субстанция» раскрывает тему обслуживающег...  \n",
      "4   Трома XXI век Цепляющая идея, очень простой сц...  \n",
      "5   Пустота, самоутрата и самоуничтожение 'Субстан...  \n",
      "6   sweet dreams are made of this Первая половина ...  \n",
      "7   Актуальная, но не заезженная проблема непринят...  \n",
      "8   Хоррор вижу, а где логика? Почему столь револю...  \n",
      "9   Субстанция, что обещает вечность, но ведет к у...  \n",
      "10  'Субстанция': фильм, который не просто шокируе...  \n",
      "11  Почему так противно? О фильме 'Субстанция' я у...  \n",
      "12  Омерзительно. Прекрасно. Как и многие, наслуша...  \n",
      "13   Гламурный Кроненберг Фильм Субстанция вызвал ...  \n",
      "14   «Красота для любой женщины является гораздо б...  \n",
      "15   Hmmm...Let me think Знаете, когда отсмотришь ...  \n",
      "16   Сначала было яйцо, а вылупилось из него две к...  \n",
      "17   Мы - не субстанция! ВОЗМОЖНЫ СПОЙЛЕРЫ!!! Спой...  \n",
      "18  Но ведь это правда лучшая версия... 'Глядя, ка...  \n"
     ]
    }
   ],
   "source": [
    "import pandas as pd\n",
    "\n",
    "\n",
    "df = pd.DataFrame(users_emotions)\n",
    "negative_comments = df.loc[df[\"emotion\"] == \"NEGATIVE\", [\"login\", \"comment\"]].reset_index(drop=True)\n",
    "print(negative_comments)"
   ]
  },
  {
   "cell_type": "code",
   "execution_count": 43,
   "metadata": {
    "colab": {
     "base_uri": "https://localhost:8080/",
     "height": 466
    },
    "executionInfo": {
     "elapsed": 76,
     "status": "ok",
     "timestamp": 1746274544938,
     "user": {
      "displayName": "Zahar Chernenko",
      "userId": "07599448326130250265"
     },
     "user_tz": -180
    },
    "id": "4rUKoX1HBgQt",
    "outputId": "188cd12a-e4a4-43df-cbde-68ddfe49d954"
   },
   "outputs": [
    {
     "data": {
      "text/plain": [
       "<Axes: xlabel='emotion', ylabel='percent'>"
      ]
     },
     "execution_count": 43,
     "metadata": {},
     "output_type": "execute_result"
    },
    {
     "data": {
      "image/png": "[encoded data removed]",
      "text/plain": [
       "<Figure size 640x480 with 1 Axes>"
      ]
     },
     "metadata": {},
     "output_type": "display_data"
    }
   ],
   "source": [
    "import seaborn as sns\n",
    "\n",
    "\n",
    "sns.countplot(x=\"emotion\", data=df, stat=\"percent\")"
   ]
  }
 ],
 "metadata": {
  "accelerator": "GPU",
  "colab": {
   "authorship_tag": "ABX9TyN/bt3dqV/qWwvo8X+ViKOC",
   "gpuType": "T4",
   "provenance": []
  },
  "kernelspec": {
   "display_name": ".venv",
   "language": "python",
   "name": "python3"
  },
  "language_info": {
   "codemirror_mode": {
    "name": "ipython",
    "version": 3
   },
   "file_extension": ".py",
   "mimetype": "text/x-python",
   "name": "python",
   "nbconvert_exporter": "python",
   "pygments_lexer": "ipython3",
   "version": "3.13.3"
  }
 },
 "nbformat": 4,
 "nbformat_minor": 0
}
