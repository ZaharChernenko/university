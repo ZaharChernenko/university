{
 "cells": [
  {
   "cell_type": "code",
   "execution_count": 4,
   "id": "f5cd1c5f",
   "metadata": {},
   "outputs": [
    {
     "data": {
      "text/plain": [
       "'output/global_earthquakes.html'"
      ]
     },
     "execution_count": 4,
     "metadata": {},
     "output_type": "execute_result"
    }
   ],
   "source": [
    "import json\n",
    "\n",
    "from plotly.graph_objs import Layout\n",
    "from plotly import offline\n",
    "\n",
    "\n",
    "def get_earthquake_data(filepath: str) -> list[dict]:\n",
    "    with open(filepath) as fin:\n",
    "        features_list = json.load(fin)[\"features\"]\n",
    "\n",
    "    mags, lons, lats, hover_text = [], [], [], []\n",
    "    for feature in features_list:\n",
    "        mags.append(feature[\"properties\"][\"mag\"])\n",
    "        lons.append(feature[\"geometry\"][\"coordinates\"][0])\n",
    "        lats.append(feature[\"geometry\"][\"coordinates\"][1])\n",
    "        hover_text.append(feature['properties']['title'])\n",
    "\n",
    "    data = [\n",
    "        {\n",
    "            \"type\": \"scattergeo\",\n",
    "            \"lon\": lons,\n",
    "            \"lat\": lats,\n",
    "            \"text\": hover_text,\n",
    "            \"marker\": {\n",
    "                \"size\": [5 * mag for mag in mags],\n",
    "                \"color\": mags,\n",
    "                \"colorscale\": \"Viridis\",\n",
    "                \"reversescale\": True,\n",
    "                \"colorbar\": {\"title\": \"Magnitude\"},\n",
    "            },\n",
    "        }\n",
    "    ]\n",
    "\n",
    "    return data\n",
    "\n",
    "\n",
    "data = get_earthquake_data(\"data/eq_data_30_day_m1.json\")\n",
    "my_layout = Layout(title=\"Global Earthquakes\")\n",
    "fig = {\"data\": data, \"layout\": my_layout}\n",
    "offline.plot(fig, filename=\"output/global_earthquakes.html\")"
   ]
  }
 ],
 "metadata": {
  "kernelspec": {
   "display_name": ".venv",
   "language": "python",
   "name": "python3"
  },
  "language_info": {
   "codemirror_mode": {
    "name": "ipython",
    "version": 3
   },
   "file_extension": ".py",
   "mimetype": "text/x-python",
   "name": "python",
   "nbconvert_exporter": "python",
   "pygments_lexer": "ipython3",
   "version": "3.13.3"
  }
 },
 "nbformat": 4,
 "nbformat_minor": 5
}
